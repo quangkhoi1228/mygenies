{
 "cells": [
  {
   "cell_type": "code",
   "execution_count": 2,
   "id": "5e68a2e4",
   "metadata": {},
   "outputs": [
    {
     "name": "stdout",
     "output_type": "stream",
     "text": [
      "Requirement already satisfied: pandas in /Volumes/home/Project/mygenies/git/mygenies/.venv/lib/python3.12/site-packages (2.3.0)\n",
      "Requirement already satisfied: matplotlib in /Volumes/home/Project/mygenies/git/mygenies/.venv/lib/python3.12/site-packages (3.10.3)\n",
      "Requirement already satisfied: pillow in /Volumes/home/Project/mygenies/git/mygenies/.venv/lib/python3.12/site-packages (11.3.0)\n",
      "Requirement already satisfied: numpy>=1.26.0 in /Volumes/home/Project/mygenies/git/mygenies/.venv/lib/python3.12/site-packages (from pandas) (2.3.1)\n",
      "Requirement already satisfied: python-dateutil>=2.8.2 in /Volumes/home/Project/mygenies/git/mygenies/.venv/lib/python3.12/site-packages (from pandas) (2.9.0.post0)\n",
      "Requirement already satisfied: pytz>=2020.1 in /Volumes/home/Project/mygenies/git/mygenies/.venv/lib/python3.12/site-packages (from pandas) (2025.2)\n",
      "Requirement already satisfied: tzdata>=2022.7 in /Volumes/home/Project/mygenies/git/mygenies/.venv/lib/python3.12/site-packages (from pandas) (2025.2)\n",
      "Requirement already satisfied: contourpy>=1.0.1 in /Volumes/home/Project/mygenies/git/mygenies/.venv/lib/python3.12/site-packages (from matplotlib) (1.3.2)\n",
      "Requirement already satisfied: cycler>=0.10 in /Volumes/home/Project/mygenies/git/mygenies/.venv/lib/python3.12/site-packages (from matplotlib) (0.12.1)\n",
      "Requirement already satisfied: fonttools>=4.22.0 in /Volumes/home/Project/mygenies/git/mygenies/.venv/lib/python3.12/site-packages (from matplotlib) (4.58.5)\n",
      "Requirement already satisfied: kiwisolver>=1.3.1 in /Volumes/home/Project/mygenies/git/mygenies/.venv/lib/python3.12/site-packages (from matplotlib) (1.4.8)\n",
      "Requirement already satisfied: packaging>=20.0 in /Volumes/home/Project/mygenies/git/mygenies/.venv/lib/python3.12/site-packages (from matplotlib) (25.0)\n",
      "Requirement already satisfied: pyparsing>=2.3.1 in /Volumes/home/Project/mygenies/git/mygenies/.venv/lib/python3.12/site-packages (from matplotlib) (3.2.3)\n",
      "Requirement already satisfied: six>=1.5 in /Volumes/home/Project/mygenies/git/mygenies/.venv/lib/python3.12/site-packages (from python-dateutil>=2.8.2->pandas) (1.17.0)\n"
     ]
    }
   ],
   "source": [
    "!pip3 install pandas matplotlib pillow"
   ]
  },
  {
   "cell_type": "code",
   "execution_count": 11,
   "id": "f9aad4aa",
   "metadata": {},
   "outputs": [
    {
     "name": "stdout",
     "output_type": "stream",
     "text": [
      "Kích thước file ảnh: 69820 bytes (~68.18 KB)\n"
     ]
    },
    {
     "data": {
      "image/png": "[encoded data removed]",
      "text/plain": [
       "<Figure size 700x130 with 1 Axes>"
      ]
     },
     "metadata": {},
     "output_type": "display_data"
    }
   ],
   "source": [
    "import matplotlib.pyplot as plt\n",
    "from matplotlib.table import Table\n",
    "import matplotlib.patches as patches\n",
    "import io\n",
    "\n",
    "\n",
    "# Dữ liệu dạng dict\n",
    "data = [\n",
    "    {\n",
    "        \"stockCode\": \"KBC\",\n",
    "        \"price\": 26.5,\n",
    "        \"volume\": 20000,\n",
    "        \"status\": \"Nắm giữ\",\n",
    "        \"percent\": \"2.65%\"\n",
    "    },\n",
    "    {\n",
    "        \"stockCode\": \"KBC\",\n",
    "        \"price\": 26.5,\n",
    "        \"volume\": 2000,\n",
    "        \"status\": \"Nắm giữ\",\n",
    "        \"percent\": \"2.65%\"\n",
    "    }\n",
    "]\n",
    "\n",
    "headers = ['CP', 'Giá vốn', 'KL', 'Trạng thái', 'Tỷ trọng']\n",
    "rows = [[d['stockCode'], f\"{d['price']:,}\", f\"{d['volume']:,}\", d['status'], d['percent']] for d in data]\n",
    "\n",
    "# 📐 Vẽ hình\n",
    "fig, ax = plt.subplots(figsize=(7, 0.5 + 0.4 * len(rows)))\n",
    "ax.set_axis_off()\n",
    "\n",
    "# 📋 Tạo bảng\n",
    "table = Table(ax, bbox=[0, 0, 1, 1])\n",
    "n_rows = len(rows)\n",
    "n_cols = len(headers)\n",
    "width, height = 1.0 / n_cols, 1.0 / (n_rows + 1)\n",
    "\n",
    "# 🎨 Màu header\n",
    "header_bg_color = '#b7d7a8'  # xanh lá nhạt\n",
    "highlight_bg = {\n",
    "    1: '#f4e598',  # Vàng nhạt cho \"Giá vốn\"\n",
    "    4: '#ffc000',  # Cam đậm cho \"Tỷ trọng\"\n",
    "}\n",
    "\n",
    "# Header\n",
    "for col_idx, header in enumerate(headers):\n",
    "    bg = header_bg_color\n",
    "    cell = table.add_cell(0, col_idx, width, height, text=header, loc='center', facecolor=bg)\n",
    "    cell.set_fontsize(10)\n",
    "    cell.set_text_props(weight='bold')\n",
    "\n",
    "# Data rows\n",
    "for row_idx, row in enumerate(rows, start=1):\n",
    "    for col_idx, cell_val in enumerate(row):\n",
    "        cell = table.add_cell(row_idx, col_idx, width, height, text=str(cell_val), loc='center', facecolor='white')\n",
    "        if col_idx == 0:\n",
    "            cell.set_text_props(weight='bold')  # CP in đậm\n",
    "\n",
    "# Viền đen\n",
    "for row in range(n_rows + 1):\n",
    "    for col in range(n_cols):\n",
    "        cell = table[(row, col)]\n",
    "        cell.set_edgecolor('black')\n",
    "        cell.set_linewidth(1)\n",
    "\n",
    "ax.add_table(table)\n",
    "\n",
    "\n",
    "# ===== 📦 Export thành buffer =====\n",
    "buf = io.BytesIO()\n",
    "plt.savefig(buf, format='png', dpi=500, bbox_inches='tight')\n",
    "buf.seek(0)  # rất quan trọng!\n",
    "\n",
    "file_size_bytes = len(buf.getvalue())\n",
    "file_size_kb = file_size_bytes / 1024\n",
    "print(f\"Kích thước file ảnh: {file_size_bytes} bytes (~{file_size_kb:.2f} KB)\")\n",
    "\n",
    "plt.show()\n"
   ]
  }
 ],
 "metadata": {
  "kernelspec": {
   "display_name": ".venv",
   "language": "python",
   "name": "python3"
  },
  "language_info": {
   "codemirror_mode": {
    "name": "ipython",
    "version": 3
   },
   "file_extension": ".py",
   "mimetype": "text/x-python",
   "name": "python",
   "nbconvert_exporter": "python",
   "pygments_lexer": "ipython3",
   "version": "3.12.10"
  }
 },
 "nbformat": 4,
 "nbformat_minor": 5
}

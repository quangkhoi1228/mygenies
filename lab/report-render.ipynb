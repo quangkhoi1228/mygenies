{
 "cells": [
  {
   "cell_type": "code",
   "execution_count": 1,
   "id": "5e68a2e4",
   "metadata": {},
   "outputs": [
    {
     "name": "stdout",
     "output_type": "stream",
     "text": [
      "Requirement already satisfied: pandas in /Volumes/home/Project/mygenies/git/mygenies/.venv/lib/python3.12/site-packages (2.3.0)\n",
      "Requirement already satisfied: matplotlib in /Volumes/home/Project/mygenies/git/mygenies/.venv/lib/python3.12/site-packages (3.10.3)\n",
      "Requirement already satisfied: pillow in /Volumes/home/Project/mygenies/git/mygenies/.venv/lib/python3.12/site-packages (11.3.0)\n",
      "Requirement already satisfied: numpy>=1.26.0 in /Volumes/home/Project/mygenies/git/mygenies/.venv/lib/python3.12/site-packages (from pandas) (2.3.1)\n",
      "Requirement already satisfied: python-dateutil>=2.8.2 in /Volumes/home/Project/mygenies/git/mygenies/.venv/lib/python3.12/site-packages (from pandas) (2.9.0.post0)\n",
      "Requirement already satisfied: pytz>=2020.1 in /Volumes/home/Project/mygenies/git/mygenies/.venv/lib/python3.12/site-packages (from pandas) (2025.2)\n",
      "Requirement already satisfied: tzdata>=2022.7 in /Volumes/home/Project/mygenies/git/mygenies/.venv/lib/python3.12/site-packages (from pandas) (2025.2)\n",
      "Requirement already satisfied: contourpy>=1.0.1 in /Volumes/home/Project/mygenies/git/mygenies/.venv/lib/python3.12/site-packages (from matplotlib) (1.3.2)\n",
      "Requirement already satisfied: cycler>=0.10 in /Volumes/home/Project/mygenies/git/mygenies/.venv/lib/python3.12/site-packages (from matplotlib) (0.12.1)\n",
      "Requirement already satisfied: fonttools>=4.22.0 in /Volumes/home/Project/mygenies/git/mygenies/.venv/lib/python3.12/site-packages (from matplotlib) (4.58.5)\n",
      "Requirement already satisfied: kiwisolver>=1.3.1 in /Volumes/home/Project/mygenies/git/mygenies/.venv/lib/python3.12/site-packages (from matplotlib) (1.4.8)\n",
      "Requirement already satisfied: packaging>=20.0 in /Volumes/home/Project/mygenies/git/mygenies/.venv/lib/python3.12/site-packages (from matplotlib) (25.0)\n",
      "Requirement already satisfied: pyparsing>=2.3.1 in /Volumes/home/Project/mygenies/git/mygenies/.venv/lib/python3.12/site-packages (from matplotlib) (3.2.3)\n",
      "Requirement already satisfied: six>=1.5 in /Volumes/home/Project/mygenies/git/mygenies/.venv/lib/python3.12/site-packages (from python-dateutil>=2.8.2->pandas) (1.17.0)\n"
     ]
    }
   ],
   "source": [
    "!pip3 install pandas matplotlib pillow"
   ]
  },
  {
   "cell_type": "code",
   "execution_count": 2,
   "id": "3ae31dbb",
   "metadata": {},
   "outputs": [
    {
     "data": {
      "image/png": "[encoded data removed]",
      "text/plain": [
       "<Figure size 400x300 with 1 Axes>"
      ]
     },
     "metadata": {},
     "output_type": "display_data"
    }
   ],
   "source": [
    "import pandas as pd\n",
    "import matplotlib.pyplot as plt\n",
    "from PIL import Image, ImageDraw, ImageFont\n",
    "import io\n",
    "\n",
    "# 1. Tạo dữ liệu\n",
    "data = {'Giá':[10,12,15], 'KH':[100,150,120]}\n",
    "df = pd.DataFrame(data, index=['SSI','SSI1','SSI2'])\n",
    "\n",
    "# 2. Vẽ chart với matplotlib\n",
    "fig, ax = plt.subplots(figsize=(4,3))\n",
    "df['Giá'].plot(kind='bar', ax=ax, color='#3498db')\n",
    "ax.set_title('Biểu đồ Giá')\n",
    "buf_chart = io.BytesIO()\n",
    "plt.tight_layout()\n",
    "fig.savefig(buf_chart, format='png')\n",
    "buf_chart.seek(0)\n",
    "\n",
    "# 3. Tạo ảnh nền chứa bảng\n",
    "cell_w, cell_h = 100, 40\n",
    "rows, cols = df.shape\n",
    "img_w = cols * cell_w + 20\n",
    "img_h = rows * cell_h + 20 + 200  # thêm không gian cho chart\n",
    "img = Image.new('RGB', (img_w, img_h), 'white')\n",
    "draw = ImageDraw.Draw(img)\n",
    "font = ImageFont.load_default()\n",
    "\n",
    "# Vẽ header bảng\n",
    "for j,col in enumerate(df.columns):\n",
    "    x = 10 + j*cell_w; y = 10\n",
    "    draw.rectangle([x,y,x+cell_w,y+cell_h], outline='black', fill='#cfe2f3')\n",
    "    draw.text((x+5,y+10), col, font=font, fill='black')\n",
    "\n",
    "# Vẽ nội dung bảng\n",
    "for i,(idx,row) in enumerate(df.iterrows()):\n",
    "    y = 10 + (i+1)*cell_h\n",
    "    # vẽ label\n",
    "    draw.text((5, y+10), idx, font=font, fill='black')\n",
    "    for j,val in enumerate(row):\n",
    "        x = 10 + (j+1)*cell_w\n",
    "        draw.rectangle([x,y,x+cell_w,y+cell_h], outline='black', fill='#f8d7da')\n",
    "        draw.text((x+5,y+10), str(val), font=font, fill='black')\n",
    "\n",
    "# Dán chart vào ảnh\n",
    "chart_img = Image.open(buf_chart)\n",
    "img.paste(chart_img, (10, rows*cell_h + 20))\n",
    "\n",
    "# Lưu ảnh\n",
    "img.save('table_chart.png')\n"
   ]
  },
  {
   "cell_type": "code",
   "execution_count": null,
   "id": "f9aad4aa",
   "metadata": {},
   "outputs": [
    {
     "name": "stdout",
     "output_type": "stream",
     "text": [
      "Kích thước file ảnh: 70604 bytes (~68.95 KB)\n"
     ]
    },
    {
     "data": {
      "image/png": "[encoded data removed]",
      "text/plain": [
       "<Figure size 600x300 with 1 Axes>"
      ]
     },
     "metadata": {},
     "output_type": "display_data"
    }
   ],
   "source": [
    "import matplotlib.pyplot as plt\n",
    "from matplotlib.table import Table\n",
    "import matplotlib.patches as patches\n",
    "import io\n",
    "\n",
    "\n",
    "# Dữ liệu dạng dict\n",
    "data = [\n",
    "    {\n",
    "        \"id\": 9,\n",
    "        \"stockCode\": \"SSI\",\n",
    "        \"volume\": 800,\n",
    "        \"price\": 10000,\n",
    "        \"createdAt\": \"2025-07-06T15:06:54.782Z\",\n",
    "        \"createdUser\": 3,\n",
    "        \"updatedAt\": \"2025-07-07T17:53:22.866Z\",\n",
    "        \"updatedUser\": 3,\n",
    "        \"percent\": \"0.27%\"\n",
    "    },\n",
    "    {\n",
    "        \"id\": 10,\n",
    "        \"stockCode\": \"ACE\",\n",
    "        \"volume\": 2000,\n",
    "        \"price\": 10000,\n",
    "        \"createdAt\": \"2025-07-07T17:55:07.767Z\",\n",
    "        \"createdUser\": 3,\n",
    "        \"updatedAt\": \"2025-07-07T17:55:07.898Z\",\n",
    "        \"updatedUser\": 3,\n",
    "        \"percent\": '0.67%'\n",
    "    }\n",
    "]\n",
    "\n",
    "# Chọn các cột cần hiển thị\n",
    "headers = ['Mã CP', 'Giá', 'KL', '%NAV']\n",
    "rows = [[d['stockCode'], d['price'], d['volume'], d['percent']] for d in data]\n",
    "\n",
    "# Tạo hình\n",
    "fig, ax = plt.subplots(figsize=(6, 2 + 0.5 * len(rows)))\n",
    "ax.set_axis_off()\n",
    "\n",
    "# Tạo table\n",
    "table = Table(ax, bbox=[0, 0, 1, 1])\n",
    "\n",
    "n_rows = len(rows)\n",
    "n_cols = len(headers)\n",
    "width, height = 1.0 / n_cols, 1.0 / (n_rows + 1)\n",
    "\n",
    "# Header\n",
    "for i, header in enumerate(headers):\n",
    "    table.add_cell(0, i, width, height, text=header, loc='center', facecolor='#dbe5f1')\n",
    "\n",
    "# Rows\n",
    "for row_idx, row in enumerate(rows, start=1):\n",
    "    for col_idx, cell in enumerate(row):\n",
    "        table.add_cell(row_idx, col_idx, width, height, text=str(cell), loc='center', facecolor='#fdd3d3')\n",
    "\n",
    "# Viền\n",
    "for i in range(n_rows + 1):\n",
    "    for j in range(n_cols):\n",
    "        cell = table[(i, j)]\n",
    "        cell.set_linewidth(1)\n",
    "        cell.set_edgecolor(\"black\")\n",
    "\n",
    "ax.add_table(table)\n",
    "\n",
    "\n",
    "# ===== 📦 Export thành buffer =====\n",
    "buf = io.BytesIO()\n",
    "plt.savefig(buf, format='png', dpi=500, bbox_inches='tight')\n",
    "buf.seek(0)  # rất quan trọng!\n",
    "\n",
    "file_size_bytes = len(buf.getvalue())\n",
    "file_size_kb = file_size_bytes / 1024\n",
    "print(f\"Kích thước file ảnh: {file_size_bytes} bytes (~{file_size_kb:.2f} KB)\")\n",
    "\n",
    "plt.show()\n"
   ]
  }
 ],
 "metadata": {
  "kernelspec": {
   "display_name": ".venv",
   "language": "python",
   "name": "python3"
  },
  "language_info": {
   "codemirror_mode": {
    "name": "ipython",
    "version": 3
   },
   "file_extension": ".py",
   "mimetype": "text/x-python",
   "name": "python",
   "nbconvert_exporter": "python",
   "pygments_lexer": "ipython3",
   "version": "3.12.10"
  }
 },
 "nbformat": 4,
 "nbformat_minor": 5
}
